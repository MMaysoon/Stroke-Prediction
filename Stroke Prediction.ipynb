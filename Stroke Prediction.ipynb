{
  "cells": [
    {
      "cell_type": "markdown",
      "id": "4bea9db5",
      "metadata": {
        "papermill": {
          "duration": 0.013845,
          "end_time": "2023-03-26T21:48:49.076876",
          "exception": false,
          "start_time": "2023-03-26T21:48:49.063031",
          "status": "completed"
        },
        "tags": [],
        "id": "4bea9db5"
      },
      "source": [
        "# Import Libraries"
      ]
    },
    {
      "cell_type": "code",
      "execution_count": 5,
      "id": "386442a4",
      "metadata": {
        "execution": {
          "iopub.execute_input": "2023-03-26T21:48:49.102431Z",
          "iopub.status.busy": "2023-03-26T21:48:49.101878Z",
          "iopub.status.idle": "2023-03-26T21:48:50.779483Z",
          "shell.execute_reply": "2023-03-26T21:48:50.778471Z"
        },
        "papermill": {
          "duration": 1.69322,
          "end_time": "2023-03-26T21:48:50.782047",
          "exception": false,
          "start_time": "2023-03-26T21:48:49.088827",
          "status": "completed"
        },
        "tags": [],
        "id": "386442a4"
      },
      "outputs": [],
      "source": [
        "import pandas as pd\n",
        "import matplotlib.pyplot as plt\n",
        "import seaborn as sns\n",
        "import numpy as np\n",
        "\n",
        "from sklearn.preprocessing import LabelEncoder,OneHotEncoder\n",
        "from sklearn.preprocessing import StandardScaler\n",
        "\n",
        "import warnings\n",
        "warnings.filterwarnings('ignore')"
      ]
    },
    {
      "cell_type": "code",
      "source": [],
      "metadata": {
        "id": "BkVMvTGkTBKe"
      },
      "id": "BkVMvTGkTBKe",
      "execution_count": 5,
      "outputs": []
    },
    {
      "cell_type": "markdown",
      "id": "ccb9697a",
      "metadata": {
        "papermill": {
          "duration": 0.011439,
          "end_time": "2023-03-26T21:48:50.805330",
          "exception": false,
          "start_time": "2023-03-26T21:48:50.793891",
          "status": "completed"
        },
        "tags": [],
        "id": "ccb9697a"
      },
      "source": [
        "# Data Collection"
      ]
    },
    {
      "cell_type": "code",
      "execution_count": 6,
      "id": "7a3752e2",
      "metadata": {
        "execution": {
          "iopub.execute_input": "2023-03-26T21:48:50.831239Z",
          "iopub.status.busy": "2023-03-26T21:48:50.830884Z",
          "iopub.status.idle": "2023-03-26T21:48:50.858676Z",
          "shell.execute_reply": "2023-03-26T21:48:50.857882Z"
        },
        "papermill": {
          "duration": 0.042926,
          "end_time": "2023-03-26T21:48:50.860840",
          "exception": false,
          "start_time": "2023-03-26T21:48:50.817914",
          "status": "completed"
        },
        "tags": [],
        "id": "7a3752e2"
      },
      "outputs": [],
      "source": [
        "df=pd.read_csv('/content/drive/MyDrive/Project/Stroke Predication/healthcare-dataset-stroke-data.csv')"
      ]
    },
    {
      "cell_type": "code",
      "execution_count": 7,
      "id": "9eea5d8b",
      "metadata": {
        "execution": {
          "iopub.execute_input": "2023-03-26T21:48:50.886455Z",
          "iopub.status.busy": "2023-03-26T21:48:50.885849Z",
          "iopub.status.idle": "2023-03-26T21:48:50.912719Z",
          "shell.execute_reply": "2023-03-26T21:48:50.911798Z"
        },
        "papermill": {
          "duration": 0.04213,
          "end_time": "2023-03-26T21:48:50.914833",
          "exception": false,
          "start_time": "2023-03-26T21:48:50.872703",
          "status": "completed"
        },
        "tags": [],
        "colab": {
          "base_uri": "https://localhost:8080/",
          "height": 206
        },
        "id": "9eea5d8b",
        "outputId": "a7ace9ee-bd88-43e3-821d-9ed6726e8eb3"
      },
      "outputs": [
        {
          "output_type": "execute_result",
          "data": {
            "text/plain": [
              "      id  gender   age  hypertension  heart_disease ever_married  \\\n",
              "0   9046    Male  67.0             0              1          Yes   \n",
              "1  51676  Female  61.0             0              0          Yes   \n",
              "2  31112    Male  80.0             0              1          Yes   \n",
              "3  60182  Female  49.0             0              0          Yes   \n",
              "4   1665  Female  79.0             1              0          Yes   \n",
              "\n",
              "       work_type Residence_type  avg_glucose_level   bmi   smoking_status  \\\n",
              "0        Private          Urban             228.69  36.6  formerly smoked   \n",
              "1  Self-employed          Rural             202.21   NaN     never smoked   \n",
              "2        Private          Rural             105.92  32.5     never smoked   \n",
              "3        Private          Urban             171.23  34.4           smokes   \n",
              "4  Self-employed          Rural             174.12  24.0     never smoked   \n",
              "\n",
              "   stroke  \n",
              "0       1  \n",
              "1       1  \n",
              "2       1  \n",
              "3       1  \n",
              "4       1  "
            ],
            "text/html": [
              "\n",
              "  <div id=\"df-0c414307-c334-4c1a-8cfd-ef79320de39a\">\n",
              "    <div class=\"colab-df-container\">\n",
              "      <div>\n",
              "<style scoped>\n",
              "    .dataframe tbody tr th:only-of-type {\n",
              "        vertical-align: middle;\n",
              "    }\n",
              "\n",
              "    .dataframe tbody tr th {\n",
              "        vertical-align: top;\n",
              "    }\n",
              "\n",
              "    .dataframe thead th {\n",
              "        text-align: right;\n",
              "    }\n",
              "</style>\n",
              "<table border=\"1\" class=\"dataframe\">\n",
              "  <thead>\n",
              "    <tr style=\"text-align: right;\">\n",
              "      <th></th>\n",
              "      <th>id</th>\n",
              "      <th>gender</th>\n",
              "      <th>age</th>\n",
              "      <th>hypertension</th>\n",
              "      <th>heart_disease</th>\n",
              "      <th>ever_married</th>\n",
              "      <th>work_type</th>\n",
              "      <th>Residence_type</th>\n",
              "      <th>avg_glucose_level</th>\n",
              "      <th>bmi</th>\n",
              "      <th>smoking_status</th>\n",
              "      <th>stroke</th>\n",
              "    </tr>\n",
              "  </thead>\n",
              "  <tbody>\n",
              "    <tr>\n",
              "      <th>0</th>\n",
              "      <td>9046</td>\n",
              "      <td>Male</td>\n",
              "      <td>67.0</td>\n",
              "      <td>0</td>\n",
              "      <td>1</td>\n",
              "      <td>Yes</td>\n",
              "      <td>Private</td>\n",
              "      <td>Urban</td>\n",
              "      <td>228.69</td>\n",
              "      <td>36.6</td>\n",
              "      <td>formerly smoked</td>\n",
              "      <td>1</td>\n",
              "    </tr>\n",
              "    <tr>\n",
              "      <th>1</th>\n",
              "      <td>51676</td>\n",
              "      <td>Female</td>\n",
              "      <td>61.0</td>\n",
              "      <td>0</td>\n",
              "      <td>0</td>\n",
              "      <td>Yes</td>\n",
              "      <td>Self-employed</td>\n",
              "      <td>Rural</td>\n",
              "      <td>202.21</td>\n",
              "      <td>NaN</td>\n",
              "      <td>never smoked</td>\n",
              "      <td>1</td>\n",
              "    </tr>\n",
              "    <tr>\n",
              "      <th>2</th>\n",
              "      <td>31112</td>\n",
              "      <td>Male</td>\n",
              "      <td>80.0</td>\n",
              "      <td>0</td>\n",
              "      <td>1</td>\n",
              "      <td>Yes</td>\n",
              "      <td>Private</td>\n",
              "      <td>Rural</td>\n",
              "      <td>105.92</td>\n",
              "      <td>32.5</td>\n",
              "      <td>never smoked</td>\n",
              "      <td>1</td>\n",
              "    </tr>\n",
              "    <tr>\n",
              "      <th>3</th>\n",
              "      <td>60182</td>\n",
              "      <td>Female</td>\n",
              "      <td>49.0</td>\n",
              "      <td>0</td>\n",
              "      <td>0</td>\n",
              "      <td>Yes</td>\n",
              "      <td>Private</td>\n",
              "      <td>Urban</td>\n",
              "      <td>171.23</td>\n",
              "      <td>34.4</td>\n",
              "      <td>smokes</td>\n",
              "      <td>1</td>\n",
              "    </tr>\n",
              "    <tr>\n",
              "      <th>4</th>\n",
              "      <td>1665</td>\n",
              "      <td>Female</td>\n",
              "      <td>79.0</td>\n",
              "      <td>1</td>\n",
              "      <td>0</td>\n",
              "      <td>Yes</td>\n",
              "      <td>Self-employed</td>\n",
              "      <td>Rural</td>\n",
              "      <td>174.12</td>\n",
              "      <td>24.0</td>\n",
              "      <td>never smoked</td>\n",
              "      <td>1</td>\n",
              "    </tr>\n",
              "  </tbody>\n",
              "</table>\n",
              "</div>\n",
              "      <button class=\"colab-df-convert\" onclick=\"convertToInteractive('df-0c414307-c334-4c1a-8cfd-ef79320de39a')\"\n",
              "              title=\"Convert this dataframe to an interactive table.\"\n",
              "              style=\"display:none;\">\n",
              "        \n",
              "  <svg xmlns=\"http://www.w3.org/2000/svg\" height=\"24px\"viewBox=\"0 0 24 24\"\n",
              "       width=\"24px\">\n",
              "    <path d=\"M0 0h24v24H0V0z\" fill=\"none\"/>\n",
              "    <path d=\"M18.56 5.44l.94 2.06.94-2.06 2.06-.94-2.06-.94-.94-2.06-.94 2.06-2.06.94zm-11 1L8.5 8.5l.94-2.06 2.06-.94-2.06-.94L8.5 2.5l-.94 2.06-2.06.94zm10 10l.94 2.06.94-2.06 2.06-.94-2.06-.94-.94-2.06-.94 2.06-2.06.94z\"/><path d=\"M17.41 7.96l-1.37-1.37c-.4-.4-.92-.59-1.43-.59-.52 0-1.04.2-1.43.59L10.3 9.45l-7.72 7.72c-.78.78-.78 2.05 0 2.83L4 21.41c.39.39.9.59 1.41.59.51 0 1.02-.2 1.41-.59l7.78-7.78 2.81-2.81c.8-.78.8-2.07 0-2.86zM5.41 20L4 18.59l7.72-7.72 1.47 1.35L5.41 20z\"/>\n",
              "  </svg>\n",
              "      </button>\n",
              "      \n",
              "  <style>\n",
              "    .colab-df-container {\n",
              "      display:flex;\n",
              "      flex-wrap:wrap;\n",
              "      gap: 12px;\n",
              "    }\n",
              "\n",
              "    .colab-df-convert {\n",
              "      background-color: #E8F0FE;\n",
              "      border: none;\n",
              "      border-radius: 50%;\n",
              "      cursor: pointer;\n",
              "      display: none;\n",
              "      fill: #1967D2;\n",
              "      height: 32px;\n",
              "      padding: 0 0 0 0;\n",
              "      width: 32px;\n",
              "    }\n",
              "\n",
              "    .colab-df-convert:hover {\n",
              "      background-color: #E2EBFA;\n",
              "      box-shadow: 0px 1px 2px rgba(60, 64, 67, 0.3), 0px 1px 3px 1px rgba(60, 64, 67, 0.15);\n",
              "      fill: #174EA6;\n",
              "    }\n",
              "\n",
              "    [theme=dark] .colab-df-convert {\n",
              "      background-color: #3B4455;\n",
              "      fill: #D2E3FC;\n",
              "    }\n",
              "\n",
              "    [theme=dark] .colab-df-convert:hover {\n",
              "      background-color: #434B5C;\n",
              "      box-shadow: 0px 1px 3px 1px rgba(0, 0, 0, 0.15);\n",
              "      filter: drop-shadow(0px 1px 2px rgba(0, 0, 0, 0.3));\n",
              "      fill: #FFFFFF;\n",
              "    }\n",
              "  </style>\n",
              "\n",
              "      <script>\n",
              "        const buttonEl =\n",
              "          document.querySelector('#df-0c414307-c334-4c1a-8cfd-ef79320de39a button.colab-df-convert');\n",
              "        buttonEl.style.display =\n",
              "          google.colab.kernel.accessAllowed ? 'block' : 'none';\n",
              "\n",
              "        async function convertToInteractive(key) {\n",
              "          const element = document.querySelector('#df-0c414307-c334-4c1a-8cfd-ef79320de39a');\n",
              "          const dataTable =\n",
              "            await google.colab.kernel.invokeFunction('convertToInteractive',\n",
              "                                                     [key], {});\n",
              "          if (!dataTable) return;\n",
              "\n",
              "          const docLinkHtml = 'Like what you see? Visit the ' +\n",
              "            '<a target=\"_blank\" href=https://colab.research.google.com/notebooks/data_table.ipynb>data table notebook</a>'\n",
              "            + ' to learn more about interactive tables.';\n",
              "          element.innerHTML = '';\n",
              "          dataTable['output_type'] = 'display_data';\n",
              "          await google.colab.output.renderOutput(dataTable, element);\n",
              "          const docLink = document.createElement('div');\n",
              "          docLink.innerHTML = docLinkHtml;\n",
              "          element.appendChild(docLink);\n",
              "        }\n",
              "      </script>\n",
              "    </div>\n",
              "  </div>\n",
              "  "
            ]
          },
          "metadata": {},
          "execution_count": 7
        }
      ],
      "source": [
        "df.head()"
      ]
    },
    {
      "cell_type": "code",
      "execution_count": 8,
      "id": "00dc9182",
      "metadata": {
        "execution": {
          "iopub.execute_input": "2023-03-26T21:48:50.941774Z",
          "iopub.status.busy": "2023-03-26T21:48:50.940697Z",
          "iopub.status.idle": "2023-03-26T21:48:50.964440Z",
          "shell.execute_reply": "2023-03-26T21:48:50.963185Z"
        },
        "papermill": {
          "duration": 0.039278,
          "end_time": "2023-03-26T21:48:50.966591",
          "exception": false,
          "start_time": "2023-03-26T21:48:50.927313",
          "status": "completed"
        },
        "tags": [],
        "colab": {
          "base_uri": "https://localhost:8080/"
        },
        "id": "00dc9182",
        "outputId": "c7e043f8-ddb7-4b1a-f7c3-a863a429f4f5"
      },
      "outputs": [
        {
          "output_type": "stream",
          "name": "stdout",
          "text": [
            "<class 'pandas.core.frame.DataFrame'>\n",
            "RangeIndex: 5110 entries, 0 to 5109\n",
            "Data columns (total 12 columns):\n",
            " #   Column             Non-Null Count  Dtype  \n",
            "---  ------             --------------  -----  \n",
            " 0   id                 5110 non-null   int64  \n",
            " 1   gender             5110 non-null   object \n",
            " 2   age                5110 non-null   float64\n",
            " 3   hypertension       5110 non-null   int64  \n",
            " 4   heart_disease      5110 non-null   int64  \n",
            " 5   ever_married       5110 non-null   object \n",
            " 6   work_type          5110 non-null   object \n",
            " 7   Residence_type     5110 non-null   object \n",
            " 8   avg_glucose_level  5110 non-null   float64\n",
            " 9   bmi                4909 non-null   float64\n",
            " 10  smoking_status     5110 non-null   object \n",
            " 11  stroke             5110 non-null   int64  \n",
            "dtypes: float64(3), int64(4), object(5)\n",
            "memory usage: 479.2+ KB\n"
          ]
        }
      ],
      "source": [
        "df.info()"
      ]
    },
    {
      "cell_type": "code",
      "execution_count": 9,
      "id": "4c08aebd",
      "metadata": {
        "execution": {
          "iopub.execute_input": "2023-03-26T21:48:50.998545Z",
          "iopub.status.busy": "2023-03-26T21:48:50.997239Z",
          "iopub.status.idle": "2023-03-26T21:48:51.011902Z",
          "shell.execute_reply": "2023-03-26T21:48:51.011168Z"
        },
        "papermill": {
          "duration": 0.033857,
          "end_time": "2023-03-26T21:48:51.013815",
          "exception": false,
          "start_time": "2023-03-26T21:48:50.979958",
          "status": "completed"
        },
        "tags": [],
        "colab": {
          "base_uri": "https://localhost:8080/"
        },
        "id": "4c08aebd",
        "outputId": "e5619874-d0d9-4ee8-b1f2-bb6041b2d7ef"
      },
      "outputs": [
        {
          "output_type": "execute_result",
          "data": {
            "text/plain": [
              "id                   5110\n",
              "gender                  3\n",
              "age                   104\n",
              "hypertension            2\n",
              "heart_disease           2\n",
              "ever_married            2\n",
              "work_type               5\n",
              "Residence_type          2\n",
              "avg_glucose_level    3979\n",
              "bmi                   418\n",
              "smoking_status          4\n",
              "stroke                  2\n",
              "dtype: int64"
            ]
          },
          "metadata": {},
          "execution_count": 9
        }
      ],
      "source": [
        "df.nunique()"
      ]
    },
    {
      "cell_type": "code",
      "execution_count": 10,
      "id": "31f71c30",
      "metadata": {
        "execution": {
          "iopub.execute_input": "2023-03-26T21:48:51.044278Z",
          "iopub.status.busy": "2023-03-26T21:48:51.043857Z",
          "iopub.status.idle": "2023-03-26T21:48:51.050971Z",
          "shell.execute_reply": "2023-03-26T21:48:51.049709Z"
        },
        "papermill": {
          "duration": 0.024681,
          "end_time": "2023-03-26T21:48:51.053255",
          "exception": false,
          "start_time": "2023-03-26T21:48:51.028574",
          "status": "completed"
        },
        "tags": [],
        "id": "31f71c30"
      },
      "outputs": [],
      "source": [
        "df.drop('id',axis=1,inplace=True)"
      ]
    },
    {
      "cell_type": "code",
      "execution_count": 11,
      "id": "a7ffb9f1",
      "metadata": {
        "execution": {
          "iopub.execute_input": "2023-03-26T21:48:51.080258Z",
          "iopub.status.busy": "2023-03-26T21:48:51.079910Z",
          "iopub.status.idle": "2023-03-26T21:48:51.095958Z",
          "shell.execute_reply": "2023-03-26T21:48:51.094543Z"
        },
        "papermill": {
          "duration": 0.032348,
          "end_time": "2023-03-26T21:48:51.098285",
          "exception": false,
          "start_time": "2023-03-26T21:48:51.065937",
          "status": "completed"
        },
        "tags": [],
        "colab": {
          "base_uri": "https://localhost:8080/"
        },
        "id": "a7ffb9f1",
        "outputId": "959f72cf-7a95-4358-dfea-9a97f9f5f005"
      },
      "outputs": [
        {
          "output_type": "stream",
          "name": "stdout",
          "text": [
            "Column :gender\n",
            "Female    2994\n",
            "Male      2115\n",
            "Other        1\n",
            "Name: gender, dtype: int64\n",
            "___________-\n",
            "Column :age\n",
            "78.00    102\n",
            "57.00     95\n",
            "52.00     90\n",
            "54.00     87\n",
            "51.00     86\n",
            "        ... \n",
            "1.40       3\n",
            "0.48       3\n",
            "0.16       3\n",
            "0.40       2\n",
            "0.08       2\n",
            "Name: age, Length: 104, dtype: int64\n",
            "___________-\n",
            "Column :hypertension\n",
            "0    4612\n",
            "1     498\n",
            "Name: hypertension, dtype: int64\n",
            "___________-\n",
            "Column :heart_disease\n",
            "0    4834\n",
            "1     276\n",
            "Name: heart_disease, dtype: int64\n",
            "___________-\n",
            "Column :ever_married\n",
            "Yes    3353\n",
            "No     1757\n",
            "Name: ever_married, dtype: int64\n",
            "___________-\n",
            "Column :work_type\n",
            "Private          2925\n",
            "Self-employed     819\n",
            "children          687\n",
            "Govt_job          657\n",
            "Never_worked       22\n",
            "Name: work_type, dtype: int64\n",
            "___________-\n",
            "Column :Residence_type\n",
            "Urban    2596\n",
            "Rural    2514\n",
            "Name: Residence_type, dtype: int64\n",
            "___________-\n",
            "Column :avg_glucose_level\n",
            "93.88     6\n",
            "91.68     5\n",
            "91.85     5\n",
            "83.16     5\n",
            "73.00     5\n",
            "         ..\n",
            "111.93    1\n",
            "94.40     1\n",
            "95.57     1\n",
            "66.29     1\n",
            "85.28     1\n",
            "Name: avg_glucose_level, Length: 3979, dtype: int64\n",
            "___________-\n",
            "Column :bmi\n",
            "28.7    41\n",
            "28.4    38\n",
            "26.7    37\n",
            "27.6    37\n",
            "26.1    37\n",
            "        ..\n",
            "48.7     1\n",
            "49.2     1\n",
            "51.0     1\n",
            "49.4     1\n",
            "14.9     1\n",
            "Name: bmi, Length: 418, dtype: int64\n",
            "___________-\n",
            "Column :smoking_status\n",
            "never smoked       1892\n",
            "Unknown            1544\n",
            "formerly smoked     885\n",
            "smokes              789\n",
            "Name: smoking_status, dtype: int64\n",
            "___________-\n",
            "Column :stroke\n",
            "0    4861\n",
            "1     249\n",
            "Name: stroke, dtype: int64\n",
            "___________-\n"
          ]
        }
      ],
      "source": [
        "for col in df.columns:\n",
        "    print(f'Column :{col}')\n",
        "    print(df[col].value_counts())\n",
        "    print('___________-')"
      ]
    },
    {
      "cell_type": "markdown",
      "id": "0b9c953b",
      "metadata": {
        "papermill": {
          "duration": 0.012598,
          "end_time": "2023-03-26T21:48:51.124342",
          "exception": false,
          "start_time": "2023-03-26T21:48:51.111744",
          "status": "completed"
        },
        "tags": [],
        "id": "0b9c953b"
      },
      "source": [
        "**Missing Values in Bmi**"
      ]
    },
    {
      "cell_type": "code",
      "execution_count": 12,
      "id": "b4f736d4",
      "metadata": {
        "execution": {
          "iopub.execute_input": "2023-03-26T21:48:51.151545Z",
          "iopub.status.busy": "2023-03-26T21:48:51.150977Z",
          "iopub.status.idle": "2023-03-26T21:48:51.159559Z",
          "shell.execute_reply": "2023-03-26T21:48:51.158650Z"
        },
        "papermill": {
          "duration": 0.024194,
          "end_time": "2023-03-26T21:48:51.161553",
          "exception": false,
          "start_time": "2023-03-26T21:48:51.137359",
          "status": "completed"
        },
        "tags": [],
        "colab": {
          "base_uri": "https://localhost:8080/"
        },
        "id": "b4f736d4",
        "outputId": "31d2c06d-5497-4876-9f15-8241511eae9e"
      },
      "outputs": [
        {
          "output_type": "execute_result",
          "data": {
            "text/plain": [
              "gender                 0\n",
              "age                    0\n",
              "hypertension           0\n",
              "heart_disease          0\n",
              "ever_married           0\n",
              "work_type              0\n",
              "Residence_type         0\n",
              "avg_glucose_level      0\n",
              "bmi                  201\n",
              "smoking_status         0\n",
              "stroke                 0\n",
              "dtype: int64"
            ]
          },
          "metadata": {},
          "execution_count": 12
        }
      ],
      "source": [
        "df.isnull().sum()"
      ]
    },
    {
      "cell_type": "markdown",
      "id": "3b824911",
      "metadata": {
        "papermill": {
          "duration": 0.012503,
          "end_time": "2023-03-26T21:48:51.186895",
          "exception": false,
          "start_time": "2023-03-26T21:48:51.174392",
          "status": "completed"
        },
        "tags": [],
        "id": "3b824911"
      },
      "source": [
        "# Data Visualization"
      ]
    },
    {
      "cell_type": "markdown",
      "id": "384a1497",
      "metadata": {
        "papermill": {
          "duration": 0.01273,
          "end_time": "2023-03-26T21:48:51.212450",
          "exception": false,
          "start_time": "2023-03-26T21:48:51.199720",
          "status": "completed"
        },
        "tags": [],
        "id": "384a1497"
      },
      "source": [
        "**Categorical Features**"
      ]
    },
    {
      "cell_type": "code",
      "execution_count": 13,
      "id": "de05a812",
      "metadata": {
        "execution": {
          "iopub.execute_input": "2023-03-26T21:48:51.240108Z",
          "iopub.status.busy": "2023-03-26T21:48:51.239473Z",
          "iopub.status.idle": "2023-03-26T21:48:52.320717Z",
          "shell.execute_reply": "2023-03-26T21:48:52.319601Z"
        },
        "papermill": {
          "duration": 1.09807,
          "end_time": "2023-03-26T21:48:52.323440",
          "exception": false,
          "start_time": "2023-03-26T21:48:51.225370",
          "status": "completed"
        },
        "tags": [],
        "colab": {
          "base_uri": "https://localhost:8080/",
          "height": 1000
        },
        "id": "de05a812",
        "outputId": "51d162dc-7d34-4fd7-8460-42fad86a3c2b"
      },
      "outputs": [
        {
          "output_type": "display_data",
          "data": {
            "text/plain": [
              "<Figure size 1008x1440 with 8 Axes>"
            ],
            "image/png": "[encoded data removed]"
          },
          "metadata": {
            "needs_background": "light"
          }
        }
      ],
      "source": [
        "df_cat = ['gender','hypertension','heart_disease','ever_married','work_type','Residence_type','smoking_status', 'stroke']\n",
        "\n",
        "fig, axs = plt.subplots(4, 2, figsize=(14,20))\n",
        "axs = axs.flatten()\n",
        "\n",
        "# iterate through each column of df_catd and plot\n",
        "for i, col_name in enumerate(df_cat):\n",
        "    sns.countplot(x=col_name, data=df, ax=axs[i], hue =df['stroke'], palette = 'flare')\n",
        "    plt.title(\"Bar chart of\")\n",
        "    axs[i].set_xlabel(f\"{col_name}\", weight = 'bold')\n",
        "    axs[i].set_ylabel('Count', weight='bold')\n"
      ]
    },
    {
      "cell_type": "code",
      "execution_count": 14,
      "id": "39e94862",
      "metadata": {
        "execution": {
          "iopub.execute_input": "2023-03-26T21:48:52.353976Z",
          "iopub.status.busy": "2023-03-26T21:48:52.353311Z",
          "iopub.status.idle": "2023-03-26T21:48:53.911891Z",
          "shell.execute_reply": "2023-03-26T21:48:53.910620Z"
        },
        "papermill": {
          "duration": 1.576977,
          "end_time": "2023-03-26T21:48:53.914709",
          "exception": false,
          "start_time": "2023-03-26T21:48:52.337732",
          "status": "completed"
        },
        "tags": [],
        "colab": {
          "base_uri": "https://localhost:8080/",
          "height": 1000
        },
        "id": "39e94862",
        "outputId": "55028e77-8a0a-43ab-a44c-55586f08f0bc"
      },
      "outputs": [
        {
          "output_type": "display_data",
          "data": {
            "text/plain": [
              "<Figure size 720x2160 with 11 Axes>"
            ],
            "image/png": "[encoded data removed]"
          },
          "metadata": {
            "needs_background": "light"
          }
        }
      ],
      "source": [
        "cols=list(df.columns)\n",
        "plt.figure(figsize=(10,30))\n",
        "for i in range(len(cols)):\n",
        "    plt.subplot(8,3,i+1)\n",
        "    plt.title(cols[i])\n",
        "    plt.xticks(rotation=45)\n",
        "    plt.hist(df[cols[i]])\n",
        "    \n",
        "plt.tight_layout()"
      ]
    },
    {
      "cell_type": "markdown",
      "id": "aee69a07",
      "metadata": {
        "papermill": {
          "duration": 0.01471,
          "end_time": "2023-03-26T21:48:53.944679",
          "exception": false,
          "start_time": "2023-03-26T21:48:53.929969",
          "status": "completed"
        },
        "tags": [],
        "id": "aee69a07"
      },
      "source": [
        "**Stroke (imbalance)**"
      ]
    },
    {
      "cell_type": "code",
      "execution_count": 15,
      "id": "50f526ae",
      "metadata": {
        "execution": {
          "iopub.execute_input": "2023-03-26T21:48:53.975890Z",
          "iopub.status.busy": "2023-03-26T21:48:53.975469Z",
          "iopub.status.idle": "2023-03-26T21:48:54.113452Z",
          "shell.execute_reply": "2023-03-26T21:48:54.112385Z"
        },
        "papermill": {
          "duration": 0.1578,
          "end_time": "2023-03-26T21:48:54.117205",
          "exception": false,
          "start_time": "2023-03-26T21:48:53.959405",
          "status": "completed"
        },
        "tags": [],
        "colab": {
          "base_uri": "https://localhost:8080/",
          "height": 265
        },
        "id": "50f526ae",
        "outputId": "bfe4f1eb-2967-4264-8bd8-b6236811b824"
      },
      "outputs": [
        {
          "output_type": "execute_result",
          "data": {
            "text/plain": [
              "array([<Axes: ylabel='stroke'>], dtype=object)"
            ]
          },
          "metadata": {},
          "execution_count": 15
        },
        {
          "output_type": "display_data",
          "data": {
            "text/plain": [
              "<Figure size 432x288 with 1 Axes>"
            ],
            "image/png": "[encoded data removed]"
          },
          "metadata": {}
        }
      ],
      "source": [
        "c=round(df['stroke'].value_counts()/df.shape[0]*100,2)\n",
        "c.plot.pie(autopct='%1.1f%%',subplots=True)"
      ]
    },
    {
      "cell_type": "markdown",
      "id": "fc7bd288",
      "metadata": {
        "papermill": {
          "duration": 0.020959,
          "end_time": "2023-03-26T21:48:54.159941",
          "exception": false,
          "start_time": "2023-03-26T21:48:54.138982",
          "status": "completed"
        },
        "tags": [],
        "id": "fc7bd288"
      },
      "source": [
        "**Residence Type**"
      ]
    },
    {
      "cell_type": "code",
      "execution_count": 16,
      "id": "19f6863e",
      "metadata": {
        "execution": {
          "iopub.execute_input": "2023-03-26T21:48:54.204334Z",
          "iopub.status.busy": "2023-03-26T21:48:54.203643Z",
          "iopub.status.idle": "2023-03-26T21:48:54.289631Z",
          "shell.execute_reply": "2023-03-26T21:48:54.288816Z"
        },
        "papermill": {
          "duration": 0.110757,
          "end_time": "2023-03-26T21:48:54.291856",
          "exception": false,
          "start_time": "2023-03-26T21:48:54.181099",
          "status": "completed"
        },
        "tags": [],
        "colab": {
          "base_uri": "https://localhost:8080/",
          "height": 320
        },
        "id": "19f6863e",
        "outputId": "53af8699-03a8-482a-a0f5-502d5d42d61e"
      },
      "outputs": [
        {
          "output_type": "execute_result",
          "data": {
            "text/plain": [
              "array([<Axes: ylabel='Residence_type'>], dtype=object)"
            ]
          },
          "metadata": {},
          "execution_count": 16
        },
        {
          "output_type": "display_data",
          "data": {
            "text/plain": [
              "<Figure size 360x360 with 1 Axes>"
            ],
            "image/png": "[encoded data removed]"
          },
          "metadata": {}
        }
      ],
      "source": [
        "plt.figure(figsize=(5,5))\n",
        "c=round(df['Residence_type'].value_counts()/df.shape[0]*100,2)\n",
        "colors = sns.color_palette('pastel')[0:6]\n",
        "c.plot.pie(autopct='%1.1f%%',subplots=True,colors=colors)"
      ]
    },
    {
      "cell_type": "markdown",
      "id": "2fac13c4",
      "metadata": {
        "papermill": {
          "duration": 0.022276,
          "end_time": "2023-03-26T21:48:54.337241",
          "exception": false,
          "start_time": "2023-03-26T21:48:54.314965",
          "status": "completed"
        },
        "tags": [],
        "id": "2fac13c4"
      },
      "source": [
        "**Work Type**"
      ]
    },
    {
      "cell_type": "code",
      "execution_count": 17,
      "id": "4161ff44",
      "metadata": {
        "execution": {
          "iopub.execute_input": "2023-03-26T21:48:54.381864Z",
          "iopub.status.busy": "2023-03-26T21:48:54.381196Z",
          "iopub.status.idle": "2023-03-26T21:48:54.529621Z",
          "shell.execute_reply": "2023-03-26T21:48:54.528830Z"
        },
        "papermill": {
          "duration": 0.172766,
          "end_time": "2023-03-26T21:48:54.531629",
          "exception": false,
          "start_time": "2023-03-26T21:48:54.358863",
          "status": "completed"
        },
        "tags": [],
        "colab": {
          "base_uri": "https://localhost:8080/",
          "height": 298
        },
        "id": "4161ff44",
        "outputId": "9db32065-403d-4707-c081-21735280365c"
      },
      "outputs": [
        {
          "output_type": "execute_result",
          "data": {
            "text/plain": [
              "<Axes: xlabel='work_type', ylabel='count'>"
            ]
          },
          "metadata": {},
          "execution_count": 17
        },
        {
          "output_type": "display_data",
          "data": {
            "text/plain": [
              "<Figure size 432x288 with 1 Axes>"
            ],
            "image/png": "[encoded data removed]"
          },
          "metadata": {
            "needs_background": "light"
          }
        }
      ],
      "source": [
        "sns.countplot(x='work_type',data=df)\n"
      ]
    },
    {
      "cell_type": "markdown",
      "id": "1c62bf2f",
      "metadata": {
        "papermill": {
          "duration": 0.016307,
          "end_time": "2023-03-26T21:48:54.567004",
          "exception": false,
          "start_time": "2023-03-26T21:48:54.550697",
          "status": "completed"
        },
        "tags": [],
        "id": "1c62bf2f"
      },
      "source": [
        "**BMI (Body Mass Index)**"
      ]
    },
    {
      "cell_type": "markdown",
      "id": "871a87ca",
      "metadata": {
        "papermill": {
          "duration": 0.016394,
          "end_time": "2023-03-26T21:48:54.600199",
          "exception": false,
          "start_time": "2023-03-26T21:48:54.583805",
          "status": "completed"
        },
        "tags": [],
        "id": "871a87ca"
      },
      "source": [
        "* Under_weight ( BMI < 18.5 )\n",
        "* Normal_weight ( 18.5 < BMI < 25 )\n",
        "* Over_weight ( 25 < BMI < 30 )\n",
        "* Obese ( BMI > 30 )"
      ]
    },
    {
      "cell_type": "code",
      "execution_count": 18,
      "id": "1499b805",
      "metadata": {
        "execution": {
          "iopub.execute_input": "2023-03-26T21:48:54.635322Z",
          "iopub.status.busy": "2023-03-26T21:48:54.634798Z",
          "iopub.status.idle": "2023-03-26T21:48:54.765495Z",
          "shell.execute_reply": "2023-03-26T21:48:54.764705Z"
        },
        "papermill": {
          "duration": 0.150657,
          "end_time": "2023-03-26T21:48:54.767534",
          "exception": false,
          "start_time": "2023-03-26T21:48:54.616877",
          "status": "completed"
        },
        "tags": [],
        "colab": {
          "base_uri": "https://localhost:8080/",
          "height": 250
        },
        "id": "1499b805",
        "outputId": "d504927b-a1c4-47d0-c806-40ae4e12ac91"
      },
      "outputs": [
        {
          "output_type": "display_data",
          "data": {
            "text/plain": [
              "<Figure size 432x288 with 1 Axes>"
            ],
            "image/png": "[encoded data removed]"
          },
          "metadata": {}
        }
      ],
      "source": [
        "fig1, ax1 = plt.subplots()\n",
        "ax1.pie(x=[df[df['bmi'] <= 18.5]['stroke'].value_counts()[0] , \n",
        "   df[(df['bmi'] <= 25) & (df['bmi'] > 18)]['stroke'].value_counts()[0] , \n",
        "   df[(df['bmi'] <= 30) & (df['bmi'] > 25)]['stroke'].value_counts()[0] , \n",
        "   df[df['bmi'] > 30]['stroke'].value_counts()[0] ], \n",
        "    labels=['Under_weight','Normal_weight','Over_weight','Obese'] , \n",
        "    pctdistance=0.6 , radius=6  , autopct='%1.1f%%' , \n",
        "    colors=['powderblue','lavender','tan','pink'] )\n",
        "\n",
        "ax1.axis('equal')\n",
        "plt.legend(title = \"% of all patients for BMI category\" , loc=1 , bbox_to_anchor=(1.5, 0.4))\n",
        "plt.show() "
      ]
    },
    {
      "cell_type": "markdown",
      "id": "aa97304a",
      "metadata": {
        "papermill": {
          "duration": 0.022691,
          "end_time": "2023-03-26T21:48:54.813126",
          "exception": false,
          "start_time": "2023-03-26T21:48:54.790435",
          "status": "completed"
        },
        "tags": [],
        "id": "aa97304a"
      },
      "source": [
        "# Data Preprocessing"
      ]
    },
    {
      "cell_type": "markdown",
      "id": "dff92582",
      "metadata": {
        "papermill": {
          "duration": 0.016307,
          "end_time": "2023-03-26T21:48:54.848937",
          "exception": false,
          "start_time": "2023-03-26T21:48:54.832630",
          "status": "completed"
        },
        "tags": [],
        "id": "dff92582"
      },
      "source": [
        "**fill the missing values in BMI**"
      ]
    },
    {
      "cell_type": "code",
      "execution_count": 19,
      "id": "916c8dab",
      "metadata": {
        "execution": {
          "iopub.execute_input": "2023-03-26T21:48:54.884921Z",
          "iopub.status.busy": "2023-03-26T21:48:54.884344Z",
          "iopub.status.idle": "2023-03-26T21:48:54.889945Z",
          "shell.execute_reply": "2023-03-26T21:48:54.888762Z"
        },
        "papermill": {
          "duration": 0.02699,
          "end_time": "2023-03-26T21:48:54.892481",
          "exception": false,
          "start_time": "2023-03-26T21:48:54.865491",
          "status": "completed"
        },
        "tags": [],
        "id": "916c8dab"
      },
      "outputs": [],
      "source": [
        "df['bmi'].interpolate(inplace=True)"
      ]
    },
    {
      "cell_type": "code",
      "execution_count": 20,
      "id": "44ce2a24",
      "metadata": {
        "execution": {
          "iopub.execute_input": "2023-03-26T21:48:54.928974Z",
          "iopub.status.busy": "2023-03-26T21:48:54.928599Z",
          "iopub.status.idle": "2023-03-26T21:48:54.938059Z",
          "shell.execute_reply": "2023-03-26T21:48:54.937150Z"
        },
        "papermill": {
          "duration": 0.029758,
          "end_time": "2023-03-26T21:48:54.939888",
          "exception": false,
          "start_time": "2023-03-26T21:48:54.910130",
          "status": "completed"
        },
        "tags": [],
        "colab": {
          "base_uri": "https://localhost:8080/"
        },
        "id": "44ce2a24",
        "outputId": "faff53c6-3b43-4902-d777-a4c469a77321"
      },
      "outputs": [
        {
          "output_type": "execute_result",
          "data": {
            "text/plain": [
              "gender               0\n",
              "age                  0\n",
              "hypertension         0\n",
              "heart_disease        0\n",
              "ever_married         0\n",
              "work_type            0\n",
              "Residence_type       0\n",
              "avg_glucose_level    0\n",
              "bmi                  0\n",
              "smoking_status       0\n",
              "stroke               0\n",
              "dtype: int64"
            ]
          },
          "metadata": {},
          "execution_count": 20
        }
      ],
      "source": [
        "df.isnull().sum()"
      ]
    },
    {
      "cell_type": "code",
      "execution_count": 21,
      "id": "5aaf3cc7",
      "metadata": {
        "execution": {
          "iopub.execute_input": "2023-03-26T21:48:54.976752Z",
          "iopub.status.busy": "2023-03-26T21:48:54.975775Z",
          "iopub.status.idle": "2023-03-26T21:48:54.981864Z",
          "shell.execute_reply": "2023-03-26T21:48:54.981146Z"
        },
        "papermill": {
          "duration": 0.026198,
          "end_time": "2023-03-26T21:48:54.983665",
          "exception": false,
          "start_time": "2023-03-26T21:48:54.957467",
          "status": "completed"
        },
        "tags": [],
        "colab": {
          "base_uri": "https://localhost:8080/"
        },
        "id": "5aaf3cc7",
        "outputId": "c1e4331c-7b33-44bf-9322-4c77d79a4299"
      },
      "outputs": [
        {
          "output_type": "execute_result",
          "data": {
            "text/plain": [
              "(5110, 11)"
            ]
          },
          "metadata": {},
          "execution_count": 21
        }
      ],
      "source": [
        "df.shape"
      ]
    },
    {
      "cell_type": "markdown",
      "id": "c7cd9edd",
      "metadata": {
        "papermill": {
          "duration": 0.017041,
          "end_time": "2023-03-26T21:48:55.017875",
          "exception": false,
          "start_time": "2023-03-26T21:48:55.000834",
          "status": "completed"
        },
        "tags": [],
        "id": "c7cd9edd"
      },
      "source": [
        "**Outlier Check**"
      ]
    },
    {
      "cell_type": "code",
      "execution_count": 22,
      "id": "1882afbc",
      "metadata": {
        "execution": {
          "iopub.execute_input": "2023-03-26T21:48:55.054108Z",
          "iopub.status.busy": "2023-03-26T21:48:55.053762Z",
          "iopub.status.idle": "2023-03-26T21:48:55.387879Z",
          "shell.execute_reply": "2023-03-26T21:48:55.386920Z"
        },
        "papermill": {
          "duration": 0.354684,
          "end_time": "2023-03-26T21:48:55.389898",
          "exception": false,
          "start_time": "2023-03-26T21:48:55.035214",
          "status": "completed"
        },
        "tags": [],
        "colab": {
          "base_uri": "https://localhost:8080/",
          "height": 334
        },
        "id": "1882afbc",
        "outputId": "43585faa-c737-432c-881b-7140ece76b18"
      },
      "outputs": [
        {
          "output_type": "display_data",
          "data": {
            "text/plain": [
              "<Figure size 1152x360 with 3 Axes>"
            ],
            "image/png": "[encoded data removed]"
          },
          "metadata": {
            "needs_background": "light"
          }
        }
      ],
      "source": [
        "df_num = ['age', 'avg_glucose_level', 'bmi']\n",
        "\n",
        "fig, axs = plt.subplots(1, 3, figsize=(16,5))\n",
        "axs = axs.flatten()\n",
        "\n",
        "# iterate through each column in df_num and plot\n",
        "for i, col_name in enumerate(df_num):\n",
        "    sns.boxplot(x=\"stroke\", y=col_name, data=df, ax=axs[i],  palette = 'Set1')\n",
        "    axs[i].set_xlabel(\"Stroke\", weight = 'bold')\n",
        "    axs[i].set_ylabel(f\"{col_name}\", weight='bold')"
      ]
    },
    {
      "cell_type": "markdown",
      "id": "55ce9c28",
      "metadata": {
        "papermill": {
          "duration": 0.016861,
          "end_time": "2023-03-26T21:48:55.423990",
          "exception": false,
          "start_time": "2023-03-26T21:48:55.407129",
          "status": "completed"
        },
        "tags": [],
        "id": "55ce9c28"
      },
      "source": [
        "**Outkier in BMI**"
      ]
    },
    {
      "cell_type": "code",
      "execution_count": 23,
      "id": "bb730971",
      "metadata": {
        "execution": {
          "iopub.execute_input": "2023-03-26T21:48:55.460914Z",
          "iopub.status.busy": "2023-03-26T21:48:55.459949Z",
          "iopub.status.idle": "2023-03-26T21:48:55.468126Z",
          "shell.execute_reply": "2023-03-26T21:48:55.467363Z"
        },
        "papermill": {
          "duration": 0.028664,
          "end_time": "2023-03-26T21:48:55.469876",
          "exception": false,
          "start_time": "2023-03-26T21:48:55.441212",
          "status": "completed"
        },
        "tags": [],
        "colab": {
          "base_uri": "https://localhost:8080/"
        },
        "id": "bb730971",
        "outputId": "6f2e5750-31b4-4816-966b-b56989ea55a5"
      },
      "outputs": [
        {
          "output_type": "execute_result",
          "data": {
            "text/plain": [
              "4"
            ]
          },
          "metadata": {},
          "execution_count": 23
        }
      ],
      "source": [
        "df[df['bmi']>70]['bmi'].count()"
      ]
    },
    {
      "cell_type": "code",
      "execution_count": 24,
      "id": "f5e2385d",
      "metadata": {
        "execution": {
          "iopub.execute_input": "2023-03-26T21:48:55.508069Z",
          "iopub.status.busy": "2023-03-26T21:48:55.507456Z",
          "iopub.status.idle": "2023-03-26T21:48:55.513601Z",
          "shell.execute_reply": "2023-03-26T21:48:55.512900Z"
        },
        "papermill": {
          "duration": 0.027917,
          "end_time": "2023-03-26T21:48:55.515479",
          "exception": false,
          "start_time": "2023-03-26T21:48:55.487562",
          "status": "completed"
        },
        "tags": [],
        "id": "f5e2385d"
      },
      "outputs": [],
      "source": [
        "df.drop(df[df['bmi']>70].index,inplace=True)"
      ]
    },
    {
      "cell_type": "code",
      "execution_count": 25,
      "id": "2e72e884",
      "metadata": {
        "execution": {
          "iopub.execute_input": "2023-03-26T21:48:55.552797Z",
          "iopub.status.busy": "2023-03-26T21:48:55.552217Z",
          "iopub.status.idle": "2023-03-26T21:48:55.557946Z",
          "shell.execute_reply": "2023-03-26T21:48:55.557249Z"
        },
        "papermill": {
          "duration": 0.026618,
          "end_time": "2023-03-26T21:48:55.559729",
          "exception": false,
          "start_time": "2023-03-26T21:48:55.533111",
          "status": "completed"
        },
        "tags": [],
        "colab": {
          "base_uri": "https://localhost:8080/"
        },
        "id": "2e72e884",
        "outputId": "84a00c46-b833-4a77-c6b1-bb746f82a5ce"
      },
      "outputs": [
        {
          "output_type": "execute_result",
          "data": {
            "text/plain": [
              "(5106, 11)"
            ]
          },
          "metadata": {},
          "execution_count": 25
        }
      ],
      "source": [
        "df.shape"
      ]
    },
    {
      "cell_type": "markdown",
      "id": "358ec60b",
      "metadata": {
        "papermill": {
          "duration": 0.017464,
          "end_time": "2023-03-26T21:48:55.594752",
          "exception": false,
          "start_time": "2023-03-26T21:48:55.577288",
          "status": "completed"
        },
        "tags": [],
        "id": "358ec60b"
      },
      "source": [
        "**Age**"
      ]
    },
    {
      "cell_type": "code",
      "execution_count": 26,
      "id": "3bb1610e",
      "metadata": {
        "execution": {
          "iopub.execute_input": "2023-03-26T21:48:55.632374Z",
          "iopub.status.busy": "2023-03-26T21:48:55.631824Z",
          "iopub.status.idle": "2023-03-26T21:48:55.640990Z",
          "shell.execute_reply": "2023-03-26T21:48:55.640092Z"
        },
        "papermill": {
          "duration": 0.030668,
          "end_time": "2023-03-26T21:48:55.643140",
          "exception": false,
          "start_time": "2023-03-26T21:48:55.612472",
          "status": "completed"
        },
        "tags": [],
        "id": "3bb1610e"
      },
      "outputs": [],
      "source": [
        "df2=pd.DataFrame.copy(df)\n",
        "bins=[0,10,20,30,40,50,60,70,80,90]\n",
        "labels=['0-10','10-20','20-30','30-40','40-50','50-60','60-70','70-80','80-90']\n",
        "df2['decade']=pd.cut(df['age'],bins=bins,labels=labels)"
      ]
    },
    {
      "cell_type": "code",
      "execution_count": 27,
      "id": "d97dea93",
      "metadata": {
        "execution": {
          "iopub.execute_input": "2023-03-26T21:48:55.680425Z",
          "iopub.status.busy": "2023-03-26T21:48:55.680102Z",
          "iopub.status.idle": "2023-03-26T21:48:55.696984Z",
          "shell.execute_reply": "2023-03-26T21:48:55.696013Z"
        },
        "papermill": {
          "duration": 0.03826,
          "end_time": "2023-03-26T21:48:55.699253",
          "exception": false,
          "start_time": "2023-03-26T21:48:55.660993",
          "status": "completed"
        },
        "tags": [],
        "colab": {
          "base_uri": "https://localhost:8080/",
          "height": 206
        },
        "id": "d97dea93",
        "outputId": "81723402-96cd-4b00-e930-d2db7a456170"
      },
      "outputs": [
        {
          "output_type": "execute_result",
          "data": {
            "text/plain": [
              "   gender   age  hypertension  heart_disease ever_married      work_type  \\\n",
              "0    Male  67.0             0              1          Yes        Private   \n",
              "1  Female  61.0             0              0          Yes  Self-employed   \n",
              "2    Male  80.0             0              1          Yes        Private   \n",
              "3  Female  49.0             0              0          Yes        Private   \n",
              "4  Female  79.0             1              0          Yes  Self-employed   \n",
              "\n",
              "  Residence_type  avg_glucose_level    bmi   smoking_status  stroke decade  \n",
              "0          Urban             228.69  36.60  formerly smoked       1  60-70  \n",
              "1          Rural             202.21  34.55     never smoked       1  60-70  \n",
              "2          Rural             105.92  32.50     never smoked       1  70-80  \n",
              "3          Urban             171.23  34.40           smokes       1  40-50  \n",
              "4          Rural             174.12  24.00     never smoked       1  70-80  "
            ],
            "text/html": [
              "\n",
              "  <div id=\"df-9d8effaf-9340-4d46-b606-9ff7d242ab35\">\n",
              "    <div class=\"colab-df-container\">\n",
              "      <div>\n",
              "<style scoped>\n",
              "    .dataframe tbody tr th:only-of-type {\n",
              "        vertical-align: middle;\n",
              "    }\n",
              "\n",
              "    .dataframe tbody tr th {\n",
              "        vertical-align: top;\n",
              "    }\n",
              "\n",
              "    .dataframe thead th {\n",
              "        text-align: right;\n",
              "    }\n",
              "</style>\n",
              "<table border=\"1\" class=\"dataframe\">\n",
              "  <thead>\n",
              "    <tr style=\"text-align: right;\">\n",
              "      <th></th>\n",
              "      <th>gender</th>\n",
              "      <th>age</th>\n",
              "      <th>hypertension</th>\n",
              "      <th>heart_disease</th>\n",
              "      <th>ever_married</th>\n",
              "      <th>work_type</th>\n",
              "      <th>Residence_type</th>\n",
              "      <th>avg_glucose_level</th>\n",
              "      <th>bmi</th>\n",
              "      <th>smoking_status</th>\n",
              "      <th>stroke</th>\n",
              "      <th>decade</th>\n",
              "    </tr>\n",
              "  </thead>\n",
              "  <tbody>\n",
              "    <tr>\n",
              "      <th>0</th>\n",
              "      <td>Male</td>\n",
              "      <td>67.0</td>\n",
              "      <td>0</td>\n",
              "      <td>1</td>\n",
              "      <td>Yes</td>\n",
              "      <td>Private</td>\n",
              "      <td>Urban</td>\n",
              "      <td>228.69</td>\n",
              "      <td>36.60</td>\n",
              "      <td>formerly smoked</td>\n",
              "      <td>1</td>\n",
              "      <td>60-70</td>\n",
              "    </tr>\n",
              "    <tr>\n",
              "      <th>1</th>\n",
              "      <td>Female</td>\n",
              "      <td>61.0</td>\n",
              "      <td>0</td>\n",
              "      <td>0</td>\n",
              "      <td>Yes</td>\n",
              "      <td>Self-employed</td>\n",
              "      <td>Rural</td>\n",
              "      <td>202.21</td>\n",
              "      <td>34.55</td>\n",
              "      <td>never smoked</td>\n",
              "      <td>1</td>\n",
              "      <td>60-70</td>\n",
              "    </tr>\n",
              "    <tr>\n",
              "      <th>2</th>\n",
              "      <td>Male</td>\n",
              "      <td>80.0</td>\n",
              "      <td>0</td>\n",
              "      <td>1</td>\n",
              "      <td>Yes</td>\n",
              "      <td>Private</td>\n",
              "      <td>Rural</td>\n",
              "      <td>105.92</td>\n",
              "      <td>32.50</td>\n",
              "      <td>never smoked</td>\n",
              "      <td>1</td>\n",
              "      <td>70-80</td>\n",
              "    </tr>\n",
              "    <tr>\n",
              "      <th>3</th>\n",
              "      <td>Female</td>\n",
              "      <td>49.0</td>\n",
              "      <td>0</td>\n",
              "      <td>0</td>\n",
              "      <td>Yes</td>\n",
              "      <td>Private</td>\n",
              "      <td>Urban</td>\n",
              "      <td>171.23</td>\n",
              "      <td>34.40</td>\n",
              "      <td>smokes</td>\n",
              "      <td>1</td>\n",
              "      <td>40-50</td>\n",
              "    </tr>\n",
              "    <tr>\n",
              "      <th>4</th>\n",
              "      <td>Female</td>\n",
              "      <td>79.0</td>\n",
              "      <td>1</td>\n",
              "      <td>0</td>\n",
              "      <td>Yes</td>\n",
              "      <td>Self-employed</td>\n",
              "      <td>Rural</td>\n",
              "      <td>174.12</td>\n",
              "      <td>24.00</td>\n",
              "      <td>never smoked</td>\n",
              "      <td>1</td>\n",
              "      <td>70-80</td>\n",
              "    </tr>\n",
              "  </tbody>\n",
              "</table>\n",
              "</div>\n",
              "      <button class=\"colab-df-convert\" onclick=\"convertToInteractive('df-9d8effaf-9340-4d46-b606-9ff7d242ab35')\"\n",
              "              title=\"Convert this dataframe to an interactive table.\"\n",
              "              style=\"display:none;\">\n",
              "        \n",
              "  <svg xmlns=\"http://www.w3.org/2000/svg\" height=\"24px\"viewBox=\"0 0 24 24\"\n",
              "       width=\"24px\">\n",
              "    <path d=\"M0 0h24v24H0V0z\" fill=\"none\"/>\n",
              "    <path d=\"M18.56 5.44l.94 2.06.94-2.06 2.06-.94-2.06-.94-.94-2.06-.94 2.06-2.06.94zm-11 1L8.5 8.5l.94-2.06 2.06-.94-2.06-.94L8.5 2.5l-.94 2.06-2.06.94zm10 10l.94 2.06.94-2.06 2.06-.94-2.06-.94-.94-2.06-.94 2.06-2.06.94z\"/><path d=\"M17.41 7.96l-1.37-1.37c-.4-.4-.92-.59-1.43-.59-.52 0-1.04.2-1.43.59L10.3 9.45l-7.72 7.72c-.78.78-.78 2.05 0 2.83L4 21.41c.39.39.9.59 1.41.59.51 0 1.02-.2 1.41-.59l7.78-7.78 2.81-2.81c.8-.78.8-2.07 0-2.86zM5.41 20L4 18.59l7.72-7.72 1.47 1.35L5.41 20z\"/>\n",
              "  </svg>\n",
              "      </button>\n",
              "      \n",
              "  <style>\n",
              "    .colab-df-container {\n",
              "      display:flex;\n",
              "      flex-wrap:wrap;\n",
              "      gap: 12px;\n",
              "    }\n",
              "\n",
              "    .colab-df-convert {\n",
              "      background-color: #E8F0FE;\n",
              "      border: none;\n",
              "      border-radius: 50%;\n",
              "      cursor: pointer;\n",
              "      display: none;\n",
              "      fill: #1967D2;\n",
              "      height: 32px;\n",
              "      padding: 0 0 0 0;\n",
              "      width: 32px;\n",
              "    }\n",
              "\n",
              "    .colab-df-convert:hover {\n",
              "      background-color: #E2EBFA;\n",
              "      box-shadow: 0px 1px 2px rgba(60, 64, 67, 0.3), 0px 1px 3px 1px rgba(60, 64, 67, 0.15);\n",
              "      fill: #174EA6;\n",
              "    }\n",
              "\n",
              "    [theme=dark] .colab-df-convert {\n",
              "      background-color: #3B4455;\n",
              "      fill: #D2E3FC;\n",
              "    }\n",
              "\n",
              "    [theme=dark] .colab-df-convert:hover {\n",
              "      background-color: #434B5C;\n",
              "      box-shadow: 0px 1px 3px 1px rgba(0, 0, 0, 0.15);\n",
              "      filter: drop-shadow(0px 1px 2px rgba(0, 0, 0, 0.3));\n",
              "      fill: #FFFFFF;\n",
              "    }\n",
              "  </style>\n",
              "\n",
              "      <script>\n",
              "        const buttonEl =\n",
              "          document.querySelector('#df-9d8effaf-9340-4d46-b606-9ff7d242ab35 button.colab-df-convert');\n",
              "        buttonEl.style.display =\n",
              "          google.colab.kernel.accessAllowed ? 'block' : 'none';\n",
              "\n",
              "        async function convertToInteractive(key) {\n",
              "          const element = document.querySelector('#df-9d8effaf-9340-4d46-b606-9ff7d242ab35');\n",
              "          const dataTable =\n",
              "            await google.colab.kernel.invokeFunction('convertToInteractive',\n",
              "                                                     [key], {});\n",
              "          if (!dataTable) return;\n",
              "\n",
              "          const docLinkHtml = 'Like what you see? Visit the ' +\n",
              "            '<a target=\"_blank\" href=https://colab.research.google.com/notebooks/data_table.ipynb>data table notebook</a>'\n",
              "            + ' to learn more about interactive tables.';\n",
              "          element.innerHTML = '';\n",
              "          dataTable['output_type'] = 'display_data';\n",
              "          await google.colab.output.renderOutput(dataTable, element);\n",
              "          const docLink = document.createElement('div');\n",
              "          docLink.innerHTML = docLinkHtml;\n",
              "          element.appendChild(docLink);\n",
              "        }\n",
              "      </script>\n",
              "    </div>\n",
              "  </div>\n",
              "  "
            ]
          },
          "metadata": {},
          "execution_count": 27
        }
      ],
      "source": [
        "df2.head()"
      ]
    },
    {
      "cell_type": "code",
      "source": [
        "plt.figure(figsize=[15,10])\n",
        "sns.set_theme(style=\"whitegrid\")\n",
        "sns.countplot(data=df2.sort_values('decade'),x='decade',hue='stroke',dodge=True  )\n",
        "plt.title('Age of all the patient sample with stroke and without stroke' , fontsize = 15, fontweight ='bold')\n",
        "\n",
        "plt.xlabel('Age_of_Paitent (decade)')\n",
        "plt.ylabel('Counts')\n",
        "plt.show()"
      ],
      "metadata": {
        "colab": {
          "base_uri": "https://localhost:8080/",
          "height": 629
        },
        "id": "Vj0NEy9UStQu",
        "outputId": "644f941b-baee-4b67-b02b-5b2e57c7e2ad"
      },
      "id": "Vj0NEy9UStQu",
      "execution_count": 28,
      "outputs": [
        {
          "output_type": "display_data",
          "data": {
            "text/plain": [
              "<Figure size 1080x720 with 1 Axes>"
            ],
            "image/png": "[encoded data removed]"
          },
          "metadata": {
            "needs_background": "light"
          }
        }
      ]
    },
    {
      "cell_type": "markdown",
      "id": "ea671776",
      "metadata": {
        "papermill": {
          "duration": 0.016871,
          "end_time": "2023-03-26T21:48:55.733848",
          "exception": false,
          "start_time": "2023-03-26T21:48:55.716977",
          "status": "completed"
        },
        "tags": [],
        "id": "ea671776"
      },
      "source": [
        "**Correlation**"
      ]
    },
    {
      "cell_type": "code",
      "execution_count": 29,
      "id": "662c893e",
      "metadata": {
        "execution": {
          "iopub.execute_input": "2023-03-26T21:48:55.770026Z",
          "iopub.status.busy": "2023-03-26T21:48:55.769672Z",
          "iopub.status.idle": "2023-03-26T21:48:56.115145Z",
          "shell.execute_reply": "2023-03-26T21:48:56.114190Z"
        },
        "papermill": {
          "duration": 0.365909,
          "end_time": "2023-03-26T21:48:56.117064",
          "exception": false,
          "start_time": "2023-03-26T21:48:55.751155",
          "status": "completed"
        },
        "tags": [],
        "colab": {
          "base_uri": "https://localhost:8080/",
          "height": 659
        },
        "id": "662c893e",
        "outputId": "6b05c816-cf2b-4f86-a823-57757506226c"
      },
      "outputs": [
        {
          "output_type": "execute_result",
          "data": {
            "text/plain": [
              "<Axes: >"
            ]
          },
          "metadata": {},
          "execution_count": 29
        },
        {
          "output_type": "display_data",
          "data": {
            "text/plain": [
              "<Figure size 800x640 with 2 Axes>"
            ],
            "image/png": "[encoded data removed]"
          },
          "metadata": {}
        }
      ],
      "source": [
        "plt.figure(figsize=(10, 8), dpi=80)\n",
        "sns.heatmap(df.corr(),annot=True,cmap='Blues')"
      ]
    },
    {
      "cell_type": "markdown",
      "id": "25617e35",
      "metadata": {
        "papermill": {
          "duration": 0.018543,
          "end_time": "2023-03-26T21:48:56.154438",
          "exception": false,
          "start_time": "2023-03-26T21:48:56.135895",
          "status": "completed"
        },
        "tags": [],
        "id": "25617e35"
      },
      "source": [
        "**LabelEncoder**"
      ]
    },
    {
      "cell_type": "code",
      "execution_count": 30,
      "id": "5a397bba",
      "metadata": {
        "execution": {
          "iopub.execute_input": "2023-03-26T21:48:56.193836Z",
          "iopub.status.busy": "2023-03-26T21:48:56.193464Z",
          "iopub.status.idle": "2023-03-26T21:48:56.206593Z",
          "shell.execute_reply": "2023-03-26T21:48:56.205212Z"
        },
        "papermill": {
          "duration": 0.03535,
          "end_time": "2023-03-26T21:48:56.208594",
          "exception": false,
          "start_time": "2023-03-26T21:48:56.173244",
          "status": "completed"
        },
        "tags": [],
        "id": "5a397bba"
      },
      "outputs": [],
      "source": [
        "from sklearn.preprocessing import LabelEncoder\n",
        "lb=LabelEncoder()\n",
        "cat_columns=['gender','ever_married','work_type', 'Residence_type','smoking_status']\n",
        "for col in cat_columns:\n",
        "    df[col]=lb.fit_transform(df[col])"
      ]
    },
    {
      "cell_type": "code",
      "execution_count": 31,
      "id": "3d337399",
      "metadata": {
        "execution": {
          "iopub.execute_input": "2023-03-26T21:48:56.246784Z",
          "iopub.status.busy": "2023-03-26T21:48:56.246405Z",
          "iopub.status.idle": "2023-03-26T21:48:56.259824Z",
          "shell.execute_reply": "2023-03-26T21:48:56.258748Z"
        },
        "papermill": {
          "duration": 0.034733,
          "end_time": "2023-03-26T21:48:56.261547",
          "exception": false,
          "start_time": "2023-03-26T21:48:56.226814",
          "status": "completed"
        },
        "tags": [],
        "colab": {
          "base_uri": "https://localhost:8080/",
          "height": 206
        },
        "id": "3d337399",
        "outputId": "70ebc67e-cd98-46c1-9b27-d1c027d8f732"
      },
      "outputs": [
        {
          "output_type": "execute_result",
          "data": {
            "text/plain": [
              "   gender   age  hypertension  heart_disease  ever_married  work_type  \\\n",
              "0       1  67.0             0              1             1          2   \n",
              "1       0  61.0             0              0             1          3   \n",
              "2       1  80.0             0              1             1          2   \n",
              "3       0  49.0             0              0             1          2   \n",
              "4       0  79.0             1              0             1          3   \n",
              "\n",
              "   Residence_type  avg_glucose_level    bmi  smoking_status  stroke  \n",
              "0               1             228.69  36.60               1       1  \n",
              "1               0             202.21  34.55               2       1  \n",
              "2               0             105.92  32.50               2       1  \n",
              "3               1             171.23  34.40               3       1  \n",
              "4               0             174.12  24.00               2       1  "
            ],
            "text/html": [
              "\n",
              "  <div id=\"df-7f7b3639-1357-4540-a20d-5cf8c660706f\">\n",
              "    <div class=\"colab-df-container\">\n",
              "      <div>\n",
              "<style scoped>\n",
              "    .dataframe tbody tr th:only-of-type {\n",
              "        vertical-align: middle;\n",
              "    }\n",
              "\n",
              "    .dataframe tbody tr th {\n",
              "        vertical-align: top;\n",
              "    }\n",
              "\n",
              "    .dataframe thead th {\n",
              "        text-align: right;\n",
              "    }\n",
              "</style>\n",
              "<table border=\"1\" class=\"dataframe\">\n",
              "  <thead>\n",
              "    <tr style=\"text-align: right;\">\n",
              "      <th></th>\n",
              "      <th>gender</th>\n",
              "      <th>age</th>\n",
              "      <th>hypertension</th>\n",
              "      <th>heart_disease</th>\n",
              "      <th>ever_married</th>\n",
              "      <th>work_type</th>\n",
              "      <th>Residence_type</th>\n",
              "      <th>avg_glucose_level</th>\n",
              "      <th>bmi</th>\n",
              "      <th>smoking_status</th>\n",
              "      <th>stroke</th>\n",
              "    </tr>\n",
              "  </thead>\n",
              "  <tbody>\n",
              "    <tr>\n",
              "      <th>0</th>\n",
              "      <td>1</td>\n",
              "      <td>67.0</td>\n",
              "      <td>0</td>\n",
              "      <td>1</td>\n",
              "      <td>1</td>\n",
              "      <td>2</td>\n",
              "      <td>1</td>\n",
              "      <td>228.69</td>\n",
              "      <td>36.60</td>\n",
              "      <td>1</td>\n",
              "      <td>1</td>\n",
              "    </tr>\n",
              "    <tr>\n",
              "      <th>1</th>\n",
              "      <td>0</td>\n",
              "      <td>61.0</td>\n",
              "      <td>0</td>\n",
              "      <td>0</td>\n",
              "      <td>1</td>\n",
              "      <td>3</td>\n",
              "      <td>0</td>\n",
              "      <td>202.21</td>\n",
              "      <td>34.55</td>\n",
              "      <td>2</td>\n",
              "      <td>1</td>\n",
              "    </tr>\n",
              "    <tr>\n",
              "      <th>2</th>\n",
              "      <td>1</td>\n",
              "      <td>80.0</td>\n",
              "      <td>0</td>\n",
              "      <td>1</td>\n",
              "      <td>1</td>\n",
              "      <td>2</td>\n",
              "      <td>0</td>\n",
              "      <td>105.92</td>\n",
              "      <td>32.50</td>\n",
              "      <td>2</td>\n",
              "      <td>1</td>\n",
              "    </tr>\n",
              "    <tr>\n",
              "      <th>3</th>\n",
              "      <td>0</td>\n",
              "      <td>49.0</td>\n",
              "      <td>0</td>\n",
              "      <td>0</td>\n",
              "      <td>1</td>\n",
              "      <td>2</td>\n",
              "      <td>1</td>\n",
              "      <td>171.23</td>\n",
              "      <td>34.40</td>\n",
              "      <td>3</td>\n",
              "      <td>1</td>\n",
              "    </tr>\n",
              "    <tr>\n",
              "      <th>4</th>\n",
              "      <td>0</td>\n",
              "      <td>79.0</td>\n",
              "      <td>1</td>\n",
              "      <td>0</td>\n",
              "      <td>1</td>\n",
              "      <td>3</td>\n",
              "      <td>0</td>\n",
              "      <td>174.12</td>\n",
              "      <td>24.00</td>\n",
              "      <td>2</td>\n",
              "      <td>1</td>\n",
              "    </tr>\n",
              "  </tbody>\n",
              "</table>\n",
              "</div>\n",
              "      <button class=\"colab-df-convert\" onclick=\"convertToInteractive('df-7f7b3639-1357-4540-a20d-5cf8c660706f')\"\n",
              "              title=\"Convert this dataframe to an interactive table.\"\n",
              "              style=\"display:none;\">\n",
              "        \n",
              "  <svg xmlns=\"http://www.w3.org/2000/svg\" height=\"24px\"viewBox=\"0 0 24 24\"\n",
              "       width=\"24px\">\n",
              "    <path d=\"M0 0h24v24H0V0z\" fill=\"none\"/>\n",
              "    <path d=\"M18.56 5.44l.94 2.06.94-2.06 2.06-.94-2.06-.94-.94-2.06-.94 2.06-2.06.94zm-11 1L8.5 8.5l.94-2.06 2.06-.94-2.06-.94L8.5 2.5l-.94 2.06-2.06.94zm10 10l.94 2.06.94-2.06 2.06-.94-2.06-.94-.94-2.06-.94 2.06-2.06.94z\"/><path d=\"M17.41 7.96l-1.37-1.37c-.4-.4-.92-.59-1.43-.59-.52 0-1.04.2-1.43.59L10.3 9.45l-7.72 7.72c-.78.78-.78 2.05 0 2.83L4 21.41c.39.39.9.59 1.41.59.51 0 1.02-.2 1.41-.59l7.78-7.78 2.81-2.81c.8-.78.8-2.07 0-2.86zM5.41 20L4 18.59l7.72-7.72 1.47 1.35L5.41 20z\"/>\n",
              "  </svg>\n",
              "      </button>\n",
              "      \n",
              "  <style>\n",
              "    .colab-df-container {\n",
              "      display:flex;\n",
              "      flex-wrap:wrap;\n",
              "      gap: 12px;\n",
              "    }\n",
              "\n",
              "    .colab-df-convert {\n",
              "      background-color: #E8F0FE;\n",
              "      border: none;\n",
              "      border-radius: 50%;\n",
              "      cursor: pointer;\n",
              "      display: none;\n",
              "      fill: #1967D2;\n",
              "      height: 32px;\n",
              "      padding: 0 0 0 0;\n",
              "      width: 32px;\n",
              "    }\n",
              "\n",
              "    .colab-df-convert:hover {\n",
              "      background-color: #E2EBFA;\n",
              "      box-shadow: 0px 1px 2px rgba(60, 64, 67, 0.3), 0px 1px 3px 1px rgba(60, 64, 67, 0.15);\n",
              "      fill: #174EA6;\n",
              "    }\n",
              "\n",
              "    [theme=dark] .colab-df-convert {\n",
              "      background-color: #3B4455;\n",
              "      fill: #D2E3FC;\n",
              "    }\n",
              "\n",
              "    [theme=dark] .colab-df-convert:hover {\n",
              "      background-color: #434B5C;\n",
              "      box-shadow: 0px 1px 3px 1px rgba(0, 0, 0, 0.15);\n",
              "      filter: drop-shadow(0px 1px 2px rgba(0, 0, 0, 0.3));\n",
              "      fill: #FFFFFF;\n",
              "    }\n",
              "  </style>\n",
              "\n",
              "      <script>\n",
              "        const buttonEl =\n",
              "          document.querySelector('#df-7f7b3639-1357-4540-a20d-5cf8c660706f button.colab-df-convert');\n",
              "        buttonEl.style.display =\n",
              "          google.colab.kernel.accessAllowed ? 'block' : 'none';\n",
              "\n",
              "        async function convertToInteractive(key) {\n",
              "          const element = document.querySelector('#df-7f7b3639-1357-4540-a20d-5cf8c660706f');\n",
              "          const dataTable =\n",
              "            await google.colab.kernel.invokeFunction('convertToInteractive',\n",
              "                                                     [key], {});\n",
              "          if (!dataTable) return;\n",
              "\n",
              "          const docLinkHtml = 'Like what you see? Visit the ' +\n",
              "            '<a target=\"_blank\" href=https://colab.research.google.com/notebooks/data_table.ipynb>data table notebook</a>'\n",
              "            + ' to learn more about interactive tables.';\n",
              "          element.innerHTML = '';\n",
              "          dataTable['output_type'] = 'display_data';\n",
              "          await google.colab.output.renderOutput(dataTable, element);\n",
              "          const docLink = document.createElement('div');\n",
              "          docLink.innerHTML = docLinkHtml;\n",
              "          element.appendChild(docLink);\n",
              "        }\n",
              "      </script>\n",
              "    </div>\n",
              "  </div>\n",
              "  "
            ]
          },
          "metadata": {},
          "execution_count": 31
        }
      ],
      "source": [
        "df.head()"
      ]
    }
  ],
  "metadata": {
    "kernelspec": {
      "display_name": "Python 3",
      "language": "python",
      "name": "python3"
    },
    "language_info": {
      "codemirror_mode": {
        "name": "ipython",
        "version": 3
      },
      "file_extension": ".py",
      "mimetype": "text/x-python",
      "name": "python",
      "nbconvert_exporter": "python",
      "pygments_lexer": "ipython3",
      "version": "3.7.12"
    },
    "papermill": {
      "default_parameters": {},
      "duration": 23.223816,
      "end_time": "2023-03-26T21:49:04.183782",
      "environment_variables": {},
      "exception": null,
      "input_path": "__notebook__.ipynb",
      "output_path": "__notebook__.ipynb",
      "parameters": {},
      "start_time": "2023-03-26T21:48:40.959966",
      "version": "2.4.0"
    },
    "colab": {
      "provenance": []
    }
  },
  "nbformat": 4,
  "nbformat_minor": 5
}